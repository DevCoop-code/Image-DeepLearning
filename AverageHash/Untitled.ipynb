{
 "cells": [
  {
   "cell_type": "code",
   "execution_count": 10,
   "metadata": {},
   "outputs": [
    {
     "name": "stdout",
     "output_type": "stream",
     "text": [
      "Overwriting avhash.py\n"
     ]
    }
   ],
   "source": [
    "%%writefile avhash.py\n",
    "from PIL import Image\n",
    "import numpy as np\n",
    "\n",
    "# Change the image data to use Average Hash\n",
    "def average_hash(fname, size = 16):\n",
    "    #open the image data\n",
    "    img = Image.open(fname)\n",
    "    #Convert to grayscale\n",
    "    img = img.convert('L')\n",
    "    #Resize\n",
    "    img = img.resize((size, size), Image.ANTIALIAS)\n",
    "    #Get the pixel data\n",
    "    pixel_data = img.getdata()\n",
    "    #Convert to numpy array\n",
    "    pixels = np.array(pixel_data)\n",
    "    #Convert to 2-dimen array\n",
    "    pixels = pixels.reshape((size, size))\n",
    "    #Get the Average\n",
    "    avg = pixels.mean()\n",
    "    #If the data is bigger than avg, the value is 1. opposite is 0\n",
    "    diff = 1 * (pixels > avg)\n",
    "    return diff\n",
    "\n",
    "# Convert to Binary Hash\n",
    "def np2hash(ahash):\n",
    "    bhash = []\n",
    "    for nl in ahash.tolist():\n",
    "        s1 = [str(i) for i in nl]\n",
    "        s2 = \"\".join(s1)\n",
    "        #convert the binary data to integer data\n",
    "        i = int(s2, 2)\n",
    "        bhash.append(\"%04x\" % i)\n",
    "    return \"\".join(bhash)\n",
    "\n",
    "#Print the Average Hash\n",
    "ahash = average_hash('ssamba_hong.jpg')\n",
    "print(ahash)\n",
    "print(np2hash(ahash))"
   ]
  },
  {
   "cell_type": "code",
   "execution_count": 20,
   "metadata": {},
   "outputs": [
    {
     "name": "stdout",
     "output_type": "stream",
     "text": [
      "Overwriting avhash-search.py\n"
     ]
    }
   ],
   "source": [
    "%%writefile avhash-search.py\n",
    "from PIL import Image\n",
    "import numpy as np\n",
    "import os, re\n",
    "\n",
    "search_dir = \"./images\"\n",
    "cache_dir = \"./images/cache_avhash\"\n",
    "\n",
    "if not os.path.exists(cache_dir):\n",
    "    os.mkdir(cache_dir)\n",
    "    \n",
    "#Convert image data to Average Hash\n",
    "def average_hash(fname, size = 16):\n",
    "    fname2 = fname[len(search_dir):]\n",
    "    #Caching the Image\n",
    "    cache_file = cache_dir + \"/\" + fname2.replace('/','_') + \".csv\"\n",
    "    #Making Hash\n",
    "    if not os.path.exists(cache_file):\n",
    "        img = Image.open(fname)\n",
    "        img = img.convert('L').resize((size, size), Image.ANTIALIAS)\n",
    "        pixels = np.array(img.getdata()).reshape((size, size))\n",
    "        avg = pixels.mean()\n",
    "        px = 1 * (pixels > avg)\n",
    "        np.savetxt(cache_file, px, fmt=\"%.0f\", delimiter=\",\")\n",
    "    else:\n",
    "        px = np.loadtxt(cache_file, delimiter=\",\")\n",
    "    return px\n",
    "\n",
    "#Obtain hamming distance\n",
    "def hamming_dist(a, b):\n",
    "    #convert to 1-dimension array\n",
    "    aa = a.reshape(1, -1)\n",
    "    ab = b.reshape(1, -1)\n",
    "    dist = (aa != ab).sum()\n",
    "    return dist\n",
    "\n",
    "#Apply all of folders\n",
    "def enum_all_files(path):\n",
    "    for root, dirs, files in os.walk(path):\n",
    "        for f in files:\n",
    "            fname = os.path.join(root, f)\n",
    "            if re.search(r'\\.(jpg|jpeg|png)$', fname):\n",
    "                yield fname\n",
    "                \n",
    "#Search Image\n",
    "def find_image(fname, rate):\n",
    "    src = average_hash(fname)\n",
    "    for fname in enum_all_files(search_dir):\n",
    "        dst = average_hash(fname)\n",
    "        diff_r = hamming_dist(src, dst) / 256\n",
    "        if diff_r < rate:\n",
    "            yield(diff_r, fname)\n",
    "            \n",
    "# Search\n",
    "srcfile = search_dir + \"/sunflower/image_0016.jpg\"\n",
    "html = \"\"\n",
    "sim = list(find_image(srcfile, 0.15))\n",
    "sim = sorted(sim, key=lambda x:x[0])\n",
    "for r, f in sim:\n",
    "    print(r, \">\", f)\n",
    "    s = '<div style=\"float:left;\"><h3>[ Difference :' + str(r) + '-' + \\\n",
    "        os.path.basename(f) + ']</h3>' +\\\n",
    "        '<p><a href=\"' + f + '\"><img src =\"' + f + '\" width=400>' + \\\n",
    "        '</a></p></div>'\n",
    "    html += s\n",
    "    \n",
    "# Print HTML\n",
    "html = \"\"\"<html><head><meta charset=\"utf8\"></head>\n",
    "<body><h3>Origin Image</h3><p>\n",
    "<img src='{0}' width=400></p>{1}\n",
    "</body></html>\"\"\".format(srcfile, html)\n",
    "with open(\"./avhash-search-output.html\", \"w\", encoding=\"utf-8\") as f:\n",
    "    f.write(html)\n",
    "print(\"OK\")"
   ]
  },
  {
   "cell_type": "code",
   "execution_count": null,
   "metadata": {},
   "outputs": [],
   "source": []
  }
 ],
 "metadata": {
  "kernelspec": {
   "display_name": "Python 3",
   "language": "python",
   "name": "python3"
  },
  "language_info": {
   "codemirror_mode": {
    "name": "ipython",
    "version": 3
   },
   "file_extension": ".py",
   "mimetype": "text/x-python",
   "name": "python",
   "nbconvert_exporter": "python",
   "pygments_lexer": "ipython3",
   "version": "3.6.4"
  }
 },
 "nbformat": 4,
 "nbformat_minor": 2
}
