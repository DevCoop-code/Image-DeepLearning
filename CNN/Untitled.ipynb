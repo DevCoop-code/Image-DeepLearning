{
 "cells": [
  {
   "cell_type": "code",
   "execution_count": 1,
   "metadata": {},
   "outputs": [
    {
     "name": "stdout",
     "output_type": "stream",
     "text": [
      "Writing caltech101_makedata.py\n"
     ]
    }
   ],
   "source": [
    "%%writefile caltech101_makedata.py\n",
    "from PIL import Image\n",
    "import os, glob\n",
    "import numpy as np\n",
    "from sklearn.model_selection import train_test_split\n",
    "\n",
    "#Select the category\n",
    "caltech_dir = \"./image/101_ObjectCategories\"\n",
    "categories = [\"chair\", \"camera\", \"butterfly\", \"elephant\", \"flamingo\"]\n",
    "nb_classes = len(categories)\n",
    "\n",
    "#Set the Image Size\n",
    "image_w = 64\n",
    "image_h = 64\n",
    "pixels = image_w * image_h * 3\n",
    "\n",
    "#Read the Image Data\n",
    "X = []\n",
    "Y = []\n",
    "for idx, cat in enumerate(categories):\n",
    "    #Set the Label\n",
    "    label = [0 for i in range(nb_classes)]\n",
    "    label[idx] = 1\n",
    "    #Image\n",
    "    image_dir = caltech_dir + \"/\" + cat\n",
    "    files = glob.glob(image_dir+\"/*.jpg\")\n",
    "    for i, f in enumerate(files):\n",
    "        img = Image.open(f)\n",
    "        img = img.convert(\"RGB\")\n",
    "        img = img.resize((image_w, image_h))\n",
    "        data = np.asarray(img)\n",
    "        X.append(data)\n",
    "        Y.append(label)\n",
    "        if i % 10 == 0:\n",
    "            print(i, \"\\n\", data)\n",
    "X = np.array(X)\n",
    "Y = np.array(Y)\n",
    "\n",
    "#Separate data(Learning Data, Test Data)\n",
    "X_train, X_test, y_train, y_test = train_test_split(X,Y)\n",
    "xy = (X_train, X_test, y_train, y_test)\n",
    "np.save(\"./image/5obj.npy\", xy)\n",
    "\n",
    "print(\"ok done\", len(Y))"
   ]
  },
  {
   "cell_type": "code",
   "execution_count": 2,
   "metadata": {},
   "outputs": [
    {
     "name": "stdout",
     "output_type": "stream",
     "text": [
      "Writing caltech101_keras.py\n"
     ]
    }
   ],
   "source": [
    "%%writefile caltech101_keras.py\n",
    "from keras.models import Sequential\n",
    "from keras.layers import Convolution2D, MaxPooling2D\n",
    "from keras.layers import Activation, Dropout, Flatten, Dense\n",
    "import numpy as np\n",
    "\n",
    "categories = [\"chair\", \"camera\", \"butterfly\", \"elephant\", \"flamingo\"]\n",
    "nb_classes = len(categories)\n",
    "\n",
    "image_w = 64\n",
    "image_h = 64\n",
    "\n"
   ]
  },
  {
   "cell_type": "code",
   "execution_count": null,
   "metadata": {},
   "outputs": [],
   "source": []
  }
 ],
 "metadata": {
  "kernelspec": {
   "display_name": "Python 3",
   "language": "python",
   "name": "python3"
  },
  "language_info": {
   "codemirror_mode": {
    "name": "ipython",
    "version": 3
   },
   "file_extension": ".py",
   "mimetype": "text/x-python",
   "name": "python",
   "nbconvert_exporter": "python",
   "pygments_lexer": "ipython3",
   "version": "3.6.4"
  }
 },
 "nbformat": 4,
 "nbformat_minor": 2
}
