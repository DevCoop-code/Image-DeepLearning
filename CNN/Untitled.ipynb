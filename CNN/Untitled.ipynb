{
 "cells": [
  {
   "cell_type": "code",
   "execution_count": 1,
   "metadata": {},
   "outputs": [
    {
     "name": "stdout",
     "output_type": "stream",
     "text": [
      "Writing caltech101_makedata.py\n"
     ]
    }
   ],
   "source": [
    "%%writefile caltech101_makedata.py\n",
    "from PIL import Image\n",
    "import os, glob\n",
    "import numpy as np\n",
    "from sklearn.model_selection import train_test_split\n",
    "\n",
    "#Select the category\n",
    "caltech_dir = \"./image/101_ObjectCategories\"\n",
    "categories = [\"chair\", \"camera\", \"butterfly\", \"elephant\", \"flamingo\"]\n",
    "nb_classes = len(categories)\n",
    "\n",
    "#Set the Image Size\n",
    "image_w = 64\n",
    "image_h = 64\n",
    "pixels = image_w * image_h * 3\n",
    "\n",
    "#Read the Image Data\n",
    "X = []\n",
    "Y = []\n",
    "for idx, cat in enumerate(categories):\n",
    "    #Set the Label\n",
    "    label = [0 for i in range(nb_classes)]\n",
    "    label[idx] = 1\n",
    "    #Image\n",
    "    image_dir = caltech_dir + \"/\" + cat\n",
    "    files = glob.glob(image_dir+\"/*.jpg\")\n",
    "    for i, f in enumerate(files):\n",
    "        img = Image.open(f)\n",
    "        img = img.convert(\"RGB\")\n",
    "        img = img.resize((image_w, image_h))\n",
    "        data = np.asarray(img)\n",
    "        X.append(data)\n",
    "        Y.append(label)\n",
    "        if i % 10 == 0:\n",
    "            print(i, \"\\n\", data)\n",
    "X = np.array(X)\n",
    "Y = np.array(Y)\n",
    "\n",
    "#Separate data(Learning Data, Test Data)\n",
    "X_train, X_test, y_train, y_test = train_test_split(X,Y)\n",
    "xy = (X_train, X_test, y_train, y_test)\n",
    "np.save(\"./image/5obj.npy\", xy)\n",
    "\n",
    "print(\"ok done\", len(Y))"
   ]
  },
  {
   "cell_type": "code",
   "execution_count": 8,
   "metadata": {},
   "outputs": [
    {
     "name": "stdout",
     "output_type": "stream",
     "text": [
      "Overwriting caltech101_keras.py\n"
     ]
    }
   ],
   "source": [
    "%%writefile caltech101_keras.py\n",
    "from keras.models import Sequential\n",
    "from keras.layers import Convolution2D, MaxPooling2D\n",
    "from keras.layers import Activation, Dropout, Flatten, Dense\n",
    "import numpy as np\n",
    "import os\n",
    "\n",
    "categories = [\"chair\", \"camera\", \"butterfly\", \"elephant\", \"flamingo\"]\n",
    "nb_classes = len(categories)\n",
    "\n",
    "#Set the image size\n",
    "image_w = 64\n",
    "image_h = 64\n",
    "\n",
    "#Open the Data\n",
    "X_train, X_test, y_train, y_test = np.load(\"./image/5obj.npy\")\n",
    "#Regulate the Data\n",
    "X_train = X_train.astype(\"float\") / 256\n",
    "X_test = X_test.astype(\"float\") / 256\n",
    "print('X_train shape:', X_train.shape)\n",
    "\n",
    "#Construct the Model\n",
    "model = Sequential()\n",
    "model.add(Convolution2D(32,3,3,border_mode='same',input_shape=X_train.shape[1:]))\n",
    "model.add(Activation('relu'))\n",
    "model.add(MaxPooling2D(pool_size=(2,2)))\n",
    "model.add(Dropout(0.25))\n",
    "\n",
    "model.add(Convolution2D(64, 3, 3, border_mode='same'))\n",
    "model.add(Activation('relu'))\n",
    "\n",
    "model.add(Convolution2D(64, 3, 3))\n",
    "model.add(MaxPooling2D(pool_size=(2,2)))\n",
    "model.add(Dropout(0.25))\n",
    "\n",
    "model.add(Flatten())\n",
    "model.add(Dense(512))\n",
    "model.add(Activation('relu'))\n",
    "model.add(Dropout(0.5))\n",
    "model.add(Dense(nb_classes))\n",
    "model.add(Activation('softmax'))\n",
    "\n",
    "model.compile(loss='binary_crossentropy', optimizer='rmsprop', metrics=['accuracy'])\n",
    "\n",
    "#Train the model\n",
    "#Save the Model using h5py\n",
    "hdf5_file = \"./image/5obj-model.hdf5\"\n",
    "if os.path.exists(hdf5_file):\n",
    "    #Load the already trained model \n",
    "    model.load_weights(hdf5_file)\n",
    "else:\n",
    "    model.fit(X_train, y_train, batch_size=32, nb_epoch=50)\n",
    "    #Save the trained model\n",
    "    model.save_weights(hdf5_file)\n",
    "\n",
    "\n",
    "#Estimate the model\n",
    "score = model.evaluate(X_test, y_test)\n",
    "print('loss=',score[0])\n",
    "print('accuracy=',score[1])"
   ]
  },
  {
   "cell_type": "code",
   "execution_count": null,
   "metadata": {},
   "outputs": [],
   "source": []
  }
 ],
 "metadata": {
  "kernelspec": {
   "display_name": "Python 3",
   "language": "python",
   "name": "python3"
  },
  "language_info": {
   "codemirror_mode": {
    "name": "ipython",
    "version": 3
   },
   "file_extension": ".py",
   "mimetype": "text/x-python",
   "name": "python",
   "nbconvert_exporter": "python",
   "pygments_lexer": "ipython3",
   "version": "3.6.4"
  }
 },
 "nbformat": 4,
 "nbformat_minor": 2
}
